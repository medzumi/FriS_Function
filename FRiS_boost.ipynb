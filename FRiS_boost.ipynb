{
 "cells": [
  {
   "cell_type": "code",
   "execution_count": 6,
   "metadata": {},
   "outputs": [
    {
     "name": "stdout",
     "output_type": "stream",
     "text": [
      "Populating the interactive namespace from numpy and matplotlib\n",
      "(40,)\n"
     ]
    },
    {
     "data": {
      "image/png": "[encoded data removed]",
      "text/plain": [
       "<Figure size 432x288 with 1 Axes>"
      ]
     },
     "metadata": {
      "needs_background": "light"
     },
     "output_type": "display_data"
    }
   ],
   "source": [
    "import numpy as np\n",
    "from numpy import linalg as ln\n",
    "import pylab as pl\n",
    "%pylab inline\n",
    "\n",
    "n = 20\n",
    "a = np.random.normal(loc=0, scale=1, size=(n, 2))\n",
    "b = np.random.normal(loc=3, scale=2, size=(n, 2))\n",
    "pl.scatter(a[:, 0], a[:, 1], c='red', s=50, alpha=0.6)\n",
    "pl.scatter(b[:, 0], b[:, 1], c='blue', s=50, alpha=0.6)\n",
    "\n",
    "pl.show\n",
    "y = np.hstack([np.ones(n), (-1)*np.ones(n)])\n",
    "x = np.vstack([a, b])\n",
    "print(y.shape)"
   ]
  },
  {
   "cell_type": "code",
   "execution_count": 59,
   "metadata": {},
   "outputs": [],
   "source": [
    "class FRiS_class:\n",
    "    size = 0\n",
    "    x_array = 0\n",
    "    y_array = 0\n",
    "    weights = 0\n",
    "    stolps = 0\n",
    "    def new(x, y):\n",
    "        FRiS_class.size = y.shape[0]\n",
    "        FRiS_class.x_array = x\n",
    "        FRiS_class.y_array = y\n",
    "        FRiS_class.weights = np.array([1/FRiS_class.size for i in range(FRiS_class.size)])\n",
    "        FRiS_class.stolps = [1 for i in range(FRiS_class.size)]\n",
    "        \n",
    "    def prediction(self, z):\n",
    "        if (ln.norm(z - self.stolp[0]) > ln.norm(z - self.stolp[1])):\n",
    "            return -1\n",
    "        else:\n",
    "            return 1\n",
    "    def positive(self):\n",
    "        ans = 0\n",
    "        for i in range(self.size):\n",
    "            if (self.y_array[i] == self.prediction(self.x_array[i])):\n",
    "                ans += self.weights[i]\n",
    "        return ans\n",
    "            \n",
    "    def __init__(self):\n",
    "        max = 0;\n",
    "        s = [0, 0]\n",
    "        count = int(self.size/2)\n",
    "        for i in range(count):\n",
    "            for j in range(count, self.size):\n",
    "                F_a = 0\n",
    "                F_b = 0\n",
    "                for h in range(count):\n",
    "                    if (i!=h):\n",
    "                        r_2 = ln.norm(self.x_array[j] - self.x_array[h])\n",
    "                        r_1 = ln.norm(self.x_array[i] - self.x_array[h])\n",
    "                        F_a+=(self.weights[h])*(r_2 - r_1)/(r_2+r_1)\n",
    "                    if (j!=h):\n",
    "                        r_2 = ln.norm(self.x_array[i] - self.x_array[h+count])\n",
    "                        r_1 = ln.norm(self.x_array[j] - self.x_array[h+count])\n",
    "                        F_b += (self.weights[h + count])*(r_2 - r_1)/(r_2+r_1)\n",
    "                F = (F_a  + F_b)/self.size\n",
    "                if (F > max):\n",
    "                    max = F\n",
    "                    s[0] = i\n",
    "                    s[1] = j\n",
    "        self.stolp = [self.x_array[s[0]], self.x_array[s[1]]]\n",
    "        self.alpha_weight = log(self.positive()/(1-self.positive()))/2\n",
    "        print(self.alpha_weight)\n",
    "        normalize = 0\n",
    "        for i in range(self.size):\n",
    "            self.weights[i] = self.weights[i]*exp((-1)*self.alpha_weight*self.y_array[i]*self.prediction(self.x_array[i]))\n",
    "            normalize += self.weights[i]          \n",
    "        for i in range(self.size): \n",
    "            self.weights[i]/=normalize\n",
    "        print(s[0]+1, s[1]+1)\n",
    "        print(\"\\n\")\n",
    "    \n",
    "    def show_pred(self, array):\n",
    "        for i in range(array.shape[0]):\n",
    "            if (self.prediction(array[i]) == 1):\n",
    "                pl.scatter(array[i][0], array[i][1], c = \"red\", s = 50, alpha = 0.6)\n",
    "            else:\n",
    "                pl.scatter(array[i][0], array[i][1], c = \"blue\", s = 50, alpha = 0.6)\n",
    "        pl.scatter(self.stolp[0][0], self.stolp[0][1], c = \"green\", s = 50, alpha = 0.6)\n",
    "        pl.scatter(self.stolp[1][0], self.stolp[1][1], c = \"yellow\", s = 50, alpha = 0.6)\n",
    "        pl.show\n",
    "                      "
   ]
  },
  {
   "cell_type": "code",
   "execution_count": 60,
   "metadata": {},
   "outputs": [
    {
     "name": "stdout",
     "output_type": "stream",
     "text": [
      "0.9729550745276587\n",
      "19 23\n",
      "\n",
      "\n"
     ]
    }
   ],
   "source": [
    "FRiS_class.new(x, y)\n",
    "boost = []\n",
    "boost.append(FRiS_class())\n"
   ]
  },
  {
   "cell_type": "code",
   "execution_count": 63,
   "metadata": {},
   "outputs": [],
   "source": [
    "def predict(boost, x, y):\n",
    "    alpha_col = [i.alpha_weight for i in boost]\n",
    "    alpha_col = [i.alpha_weight/sum(alpha_col) for i in boost]\n",
    "\n",
    "    for j in range(len(x)):\n",
    "        pred = 0\n",
    "        for i in range(len(boost)):\n",
    "            pred += boost[i].alpha_weight*boost[i].prediction(x[j])\n",
    "        if (pred > 0):\n",
    "            pl.scatter(x[j][0], x[j][1], c = \"red\", s = 50, alpha = FRiS_class.weights[j]**(1/4))\n",
    "        else: \n",
    "            pl.scatter(x[j][0], x[j][1], c = \"blue\", s = 50, alpha = FRiS_class.weights[j]**(1/4))\n",
    "    pl.show()\n",
    "    for i in range(len(x)):\n",
    "        if (y[i] == 1):\n",
    "            pl.scatter(x[i][0], x[i][1], c = \"red\", s = 50, alpha = 1)\n",
    "        else:\n",
    "            pl.scatter(x[i][0], x[i][1], c = \"blue\", s = 50, alpha = 1)\n",
    "    for i in range(len(boost)):\n",
    "        print(alpha_col[i])\n",
    "        pl.scatter(boost[i].stolp[0][0], boost[i].stolp[0][1], c =\"green\", s = 50, alpha = alpha_col[i]**(1/4))\n",
    "        pl.scatter(boost[i].stolp[1][0], boost[i].stolp[1][1], c = \"yellow\", s = 50, alpha = alpha_col[i]**(1/4))\n",
    "    pl.show()"
   ]
  },
  {
   "cell_type": "code",
   "execution_count": 76,
   "metadata": {
    "scrolled": true
   },
   "outputs": [
    {
     "data": {
      "image/png": "[encoded data removed]",
      "text/plain": [
       "<Figure size 432x288 with 1 Axes>"
      ]
     },
     "metadata": {
      "needs_background": "light"
     },
     "output_type": "display_data"
    },
    {
     "name": "stdout",
     "output_type": "stream",
     "text": [
      "0.19972282660315882\n",
      "0.1422854125311487\n",
      "0.11275852163075484\n",
      "0.1839012278963294\n",
      "0.1165958743413547\n",
      "0.13907864921087953\n",
      "0.10565748778637434\n",
      "-2.734805169651128e-16\n"
     ]
    },
    {
     "name": "stderr",
     "output_type": "stream",
     "text": [
      "D:\\anaconda\\lib\\site-packages\\ipykernel_launcher.py:21: RuntimeWarning: invalid value encountered in double_scalars\n",
      "D:\\anaconda\\lib\\site-packages\\matplotlib\\colors.py:251: RuntimeWarning: invalid value encountered in less\n",
      "  if np.any((result < 0) | (result > 1)):\n",
      "D:\\anaconda\\lib\\site-packages\\matplotlib\\colors.py:251: RuntimeWarning: invalid value encountered in greater\n",
      "  if np.any((result < 0) | (result > 1)):\n",
      "D:\\anaconda\\lib\\site-packages\\ipykernel_launcher.py:22: RuntimeWarning: invalid value encountered in double_scalars\n"
     ]
    },
    {
     "data": {
      "image/png": "[encoded data removed]",
      "text/plain": [
       "<Figure size 432x288 with 1 Axes>"
      ]
     },
     "metadata": {
      "needs_background": "light"
     },
     "output_type": "display_data"
    },
    {
     "name": "stdout",
     "output_type": "stream",
     "text": [
      "0.0\n",
      "17 40\n",
      "\n",
      "\n"
     ]
    }
   ],
   "source": [
    "predict(boost, x, y)\n",
    "boost.append(FRiS_class())"
   ]
  },
  {
   "cell_type": "code",
   "execution_count": 77,
   "metadata": {},
   "outputs": [
    {
     "name": "stderr",
     "output_type": "stream",
     "text": [
      "D:\\anaconda\\lib\\site-packages\\ipykernel_launcher.py:3: RuntimeWarning: invalid value encountered in double_scalars\n",
      "  This is separate from the ipykernel package so we can avoid doing imports until\n"
     ]
    },
    {
     "data": {
      "image/png": "[encoded data removed]",
      "text/plain": [
       "<Figure size 432x288 with 1 Axes>"
      ]
     },
     "metadata": {
      "needs_background": "light"
     },
     "output_type": "display_data"
    },
    {
     "name": "stdout",
     "output_type": "stream",
     "text": [
      "nan\n"
     ]
    },
    {
     "name": "stderr",
     "output_type": "stream",
     "text": [
      "D:\\anaconda\\lib\\site-packages\\matplotlib\\colors.py:251: RuntimeWarning: invalid value encountered in less\n",
      "  if np.any((result < 0) | (result > 1)):\n",
      "D:\\anaconda\\lib\\site-packages\\matplotlib\\colors.py:251: RuntimeWarning: invalid value encountered in greater\n",
      "  if np.any((result < 0) | (result > 1)):\n"
     ]
    },
    {
     "data": {
      "image/png": "[encoded data removed]",
      "text/plain": [
       "<Figure size 432x288 with 1 Axes>"
      ]
     },
     "metadata": {
      "needs_background": "light"
     },
     "output_type": "display_data"
    }
   ],
   "source": [
    "predict([boost[len(boost)-1]], x, y)"
   ]
  },
  {
   "cell_type": "code",
   "execution_count": null,
   "metadata": {},
   "outputs": [],
   "source": []
  }
 ],
 "metadata": {
  "kernelspec": {
   "display_name": "Python 3",
   "language": "python",
   "name": "python3"
  },
  "language_info": {
   "codemirror_mode": {
    "name": "ipython",
    "version": 3
   },
   "file_extension": ".py",
   "mimetype": "text/x-python",
   "name": "python",
   "nbconvert_exporter": "python",
   "pygments_lexer": "ipython3",
   "version": "3.7.0"
  }
 },
 "nbformat": 4,
 "nbformat_minor": 2
}
