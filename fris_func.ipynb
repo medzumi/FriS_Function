{
 "cells": [
  {
   "cell_type": "code",
   "execution_count": 2,
   "metadata": {},
   "outputs": [
    {
     "name": "stdout",
     "output_type": "stream",
     "text": [
      "Populating the interactive namespace from numpy and matplotlib\n"
     ]
    }
   ],
   "source": [
    "import numpy as np\n",
    "from numpy import linalg as ln\n",
    "import pylab as pl\n",
    "import pandas as pd\n",
    "%pylab inline\n"
   ]
  },
  {
   "cell_type": "code",
   "execution_count": 3,
   "metadata": {},
   "outputs": [],
   "source": [
    "def distance(a, A):\n",
    "    sup = ln.norm(a - A[0])\n",
    "    for i in A:\n",
    "        var = ln.norm(a - i)\n",
    "        if (sup < var):\n",
    "            sup = var\n",
    "    return sup"
   ]
  },
  {
   "cell_type": "code",
   "execution_count": 4,
   "metadata": {},
   "outputs": [],
   "source": [
    "def F(z, S_a, S_b):\n",
    "    r_a = distance(z, S_a)\n",
    "    r_b = distance(z, S_b)\n",
    "    return (r_b - r_a)/(r_b + r_a) "
   ]
  },
  {
   "cell_type": "code",
   "execution_count": 5,
   "metadata": {},
   "outputs": [],
   "source": [
    "def Fris_F(stolps_index_a, stolps_index_b, A, B):\n",
    "    S_a = [A[i] for i in stolps_index_a]\n",
    "    S_b = [B[i] for i in stolps_index_b]\n",
    "    return (sum([F(A[i], S_a, S_b) for i in range(len(A)) if (not i in stolps_index_a)]) + \n",
    "            sum([F(B[i], S_b, S_a) for i in range(len(B)) if (not i in stolps_index_b)]))/(len(A) + len(B))"
   ]
  },
  {
   "cell_type": "code",
   "execution_count": 6,
   "metadata": {},
   "outputs": [],
   "source": [
    "def choose_new_stolps(stolps, A, B):\n",
    "    sup = -1\n",
    "    new_stolps = [[], []]\n",
    "    for i in range(len(A)):\n",
    "        for j in range(len(B)):\n",
    "            if ((not i in stolps[0]) and ( not j in stolps[1])):\n",
    "                var = Fris_F(stolps[0] + [i], stolps[1]+[j], A, B)\n",
    "                if (var > sup):\n",
    "                    sup = var\n",
    "                    new_stolps = [i, j]\n",
    "    sys.stdout.write('\\r Fris_func = {}'.format(sup))\n",
    "    stolps[0].append(new_stolps[0])\n",
    "    stolps[1].append(new_stolps[1])\n",
    "    return stolps\n",
    "        \n",
    "        "
   ]
  },
  {
   "cell_type": "code",
   "execution_count": 6,
   "metadata": {},
   "outputs": [],
   "source": [
    "number = 5\n",
    "a = np.random.normal(0, 1, (number*4, 2))\n",
    "b = np.random.normal(4, 1, (number, 2))\n",
    "c = np.random.normal([0,4], 1, (number,2))\n",
    "c = np.vstack((b, c))\n",
    "b = np.random.normal([4,0], 1, (number,2))\n",
    "c = np.vstack((b,c))\n",
    "b = np.random.normal([-4,0], 1, (number,2))\n",
    "c = np.vstack((b,c))\n",
    "b = np.random.normal([0,-4], 1, (number,2))\n",
    "c = np.vstack((b,c))\n",
    "b = np.random.normal([-4,-4], 1, (number,2))\n",
    "c = np.vstack((b,c))\n",
    "b = np.random.normal([4,-4], 1, (number,2))\n",
    "c = np.vstack((b,c))\n",
    "b = np.random.normal([-4,4], 1, (number,2))\n",
    "c = np.vstack((b,c))"
   ]
  },
  {
   "cell_type": "code",
   "execution_count": 8,
   "metadata": {},
   "outputs": [
    {
     "name": "stdout",
     "output_type": "stream",
     "text": [
      "\r",
      " Fris_func = 0.14924335508948117"
     ]
    }
   ],
   "source": [
    "stolps = choose_new_stolps([[],[]], a, c)"
   ]
  },
  {
   "cell_type": "code",
   "execution_count": 9,
   "metadata": {},
   "outputs": [
    {
     "name": "stdout",
     "output_type": "stream",
     "text": [
      "\r",
      " Fris_func = 0.11156132742437999"
     ]
    }
   ],
   "source": [
    "stolps = choose_new_stolps(stolps, a, c)"
   ]
  },
  {
   "cell_type": "code",
   "execution_count": 10,
   "metadata": {},
   "outputs": [
    {
     "data": {
      "image/png": "[encoded data removed]",
      "text/plain": [
       "<Figure size 432x288 with 1 Axes>"
      ]
     },
     "metadata": {
      "needs_background": "light"
     },
     "output_type": "display_data"
    }
   ],
   "source": [
    "pl.scatter(a[:,0], a[:,1], c= 'red', s=30, alpha = 0.7)\n",
    "pl.scatter(c[:,0], c[:,1], c='blue', s=30, alpha =0.7)\n",
    "pl.scatter(a[stolps[0][:], 0], a[stolps[0][:], 1], c='black', s = 30, alpha = 0.7)\n",
    "pl.scatter(c[stolps[1][:], 0], c[stolps[1][:],1], c='purple', s = 30, alpha = 0.7)\n",
    "pl.show()"
   ]
  },
  {
   "cell_type": "code",
   "execution_count": 100,
   "metadata": {},
   "outputs": [
    {
     "data": {
      "text/plain": [
       "[[20, 35, 31, 6, 11], [73, 74, 70, 77, 72]]"
      ]
     },
     "execution_count": 100,
     "metadata": {},
     "output_type": "execute_result"
    }
   ],
   "source": [
    "stolps"
   ]
  },
  {
   "cell_type": "code",
   "execution_count": 7,
   "metadata": {},
   "outputs": [],
   "source": [
    "data = pd.read_csv('train.csv', sep = ',', encoding = 'utf-8')"
   ]
  },
  {
   "cell_type": "code",
   "execution_count": 8,
   "metadata": {},
   "outputs": [],
   "source": [
    "new_data = pd.DataFrame({'x':[], 'y':[], 'scale':[]})"
   ]
  },
  {
   "cell_type": "code",
   "execution_count": null,
   "metadata": {},
   "outputs": [
    {
     "name": "stdout",
     "output_type": "stream",
     "text": [
      " Percent = 0.26109693877551023555"
     ]
    }
   ],
   "source": [
    "counts = data['label'].value_counts()\n",
    "for h in range(10):\n",
    "    for i in range(28):\n",
    "        for j in range(28):\n",
    "            sys.stdout.write(\"\\r Percent = {}\".format((h*28*28+i*28+j)/(10*28*28)))\n",
    "            new_data = new_data.append(pd.DataFrame({'x':[i for k in range(counts[h])], 'y':[j for k in range(counts[h])], \n",
    "                                                     'scale':data['pixel{}'.format(i+j*28)][data['label'] == h]}), ignore_index=True)"
   ]
  },
  {
   "cell_type": "code",
   "execution_count": null,
   "metadata": {},
   "outputs": [],
   "source": []
  }
 ],
 "metadata": {
  "kernelspec": {
   "display_name": "Python 3",
   "language": "python",
   "name": "python3"
  },
  "language_info": {
   "codemirror_mode": {
    "name": "ipython",
    "version": 3
   },
   "file_extension": ".py",
   "mimetype": "text/x-python",
   "name": "python",
   "nbconvert_exporter": "python",
   "pygments_lexer": "ipython3",
   "version": "3.7.0"
  }
 },
 "nbformat": 4,
 "nbformat_minor": 2
}
